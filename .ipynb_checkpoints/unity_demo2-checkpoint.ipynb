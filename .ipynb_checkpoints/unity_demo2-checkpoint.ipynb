{
 "cells": [
  {
   "cell_type": "code",
   "execution_count": 19,
   "metadata": {},
   "outputs": [
    {
     "name": "stdout",
     "output_type": "stream",
     "text": [
      "Starting Unity...\n"
     ]
    },
    {
     "data": {
      "text/plain": [
       "True"
      ]
     },
     "execution_count": 19,
     "metadata": {},
     "output_type": "execute_result"
    }
   ],
   "source": [
    "import sys\n",
    "sys.path.append('../simulation/')\n",
    "from unity_simulator.comm_unity import UnityCommunication\n",
    "print('Starting Unity...')\n",
    "comm = UnityCommunication()\n",
    "\n",
    "scene_num = 1\n",
    "comm.reset(scene_num-1)"
   ]
  },
  {
   "cell_type": "code",
   "execution_count": 20,
   "metadata": {},
   "outputs": [
    {
     "name": "stdout",
     "output_type": "stream",
     "text": [
      "['close', 'drink', 'find', 'grab', 'look_at', 'open', 'point_at', 'put_on', 'put_in', 'read', 'run', 'sit', 'stand_up', 'switch_off', 'switch_on', 'touch', 'turn_to', 'walk', 'watch', 'walk_to_wards', 'walk_for_ward', 'turn_left', 'turn_right']\n"
     ]
    }
   ],
   "source": [
    "import csv\n",
    "from email import header\n",
    "\n",
    "csv_file = open(\"action_list.csv\", \"r\", encoding=\"ms932\", errors=\"\", newline=\"\" )\n",
    "f = csv.reader(csv_file, delimiter=\",\", doublequote=True, lineterminator=\"\\r\\n\", quotechar='\"', skipinitialspace=True)\n",
    "action_list = [row[0] for row in f]\n",
    "print(action_list)"
   ]
  },
  {
   "cell_type": "code",
   "execution_count": 21,
   "metadata": {},
   "outputs": [
    {
     "name": "stdout",
     "output_type": "stream",
     "text": [
      "['apple', 'bananas', 'barsoap', 'bathroom', 'bathroomcabinet', 'bathroomcounter', 'bathtub', 'bed', 'bedroom', 'bellpepper', 'bench', 'book', 'bookshelf', 'box', 'breadslice', 'cabinet', 'candle', 'candybar', 'ceiling', 'ceilinglamp', 'cellphone', 'cereal', 'chair', 'chips', 'chocolatesyrup', 'clock', 'closet', 'closetdrawer', 'clothespants', 'clothespile', 'clothesshirt', 'coffeemaker', 'coffeepot', 'coffeetable', 'computer', 'condimentbottle', 'condimentshaker', 'cpuscreen', 'crackers', 'creamybuns', 'cupcake', 'curtains', 'cutleryfork', 'cutleryknife', 'deodorant', 'desk', 'dishbowl', 'dishwashingliquid', 'door', 'doorjamb', 'facecream', 'faucet', 'floor', 'folder', 'fridge', 'fryingpan', 'garbagecan', 'hairproduct', 'hanger', 'keyboard', 'kitchen', 'kitchencabinet', 'kitchencounter', 'kitchencounterdrawer', 'kitchentable', 'lightswitch', 'lime', 'livingroom', 'microwave', 'mouse', 'mousemat', 'mug', 'nightstand', 'orchid', 'oventray', 'painkillers', 'paper', 'peach', 'perfume', 'photoframe', 'pie', 'pillow', 'plate', 'plum', 'powersocket', 'radio', 'remotecontrol', 'rug', 'salmon', 'sink', 'slippers', 'sofa', 'stall', 'stove', 'stovefan', 'tablelamp', 'toaster', 'toilet', 'toothbrush', 'toothpaste', 'towel', 'towelrack', 'tv', 'tvstand', 'wall', 'walllamp', 'wallpictureframe', 'wallshelf', 'washingmachine', 'washingsponge', 'waterglass', 'whippedcream', 'window', 'wineglass']\n"
     ]
    }
   ],
   "source": [
    "s, graph = comm.environment_graph()\n",
    "nodes = graph['nodes']\n",
    "\n",
    "object_list = [n.get('class_name') for n in nodes]\n",
    "#notExecutable_object = {'coffeemaker', 'coffeepot', 'cpuscreen', 'tablelamp', 'lime', 'oventray'}\n",
    "error_object = {\"wallphone\"}\n",
    "\n",
    "object_list = sorted(list(set(object_list)-error_object))\n",
    "print(object_list)"
   ]
  },
  {
   "cell_type": "code",
   "execution_count": 22,
   "metadata": {},
   "outputs": [
    {
     "name": "stdout",
     "output_type": "stream",
     "text": [
      "['after_shave', 'alarm_clock', 'basket_for_clothes', 'bathroom_cabinet', 'bathroom_counter', 'bowl', 'carpet', 'cd_player', 'check', 'cleaning_bottle', 'cleaning_solution', 'cloth_napkin', 'coffe_maker', 'coffee_cup', 'coffee_pot', 'coffee_table', 'controller', 'couch', 'cup', 'cupboard', 'curtain', 'detergent', 'dining_room', 'dish_soap', 'document', 'drawing', 'dresser', 'drinking_glass', 'entrance_hall', 'face_soap', 'facial_cleanser', 'filing_cabinet', 'food_apple', 'food_bread', 'food_cereal', 'food_dessert', 'food_fish', 'food_food', 'food_fruit', 'food_lime', 'food_oatmeal', 'food_salt', 'food_snack', 'food_sugar', 'fork', 'freezer', 'garbage_can', 'glass', 'groceries', 'home_office', 'kitchen_cabinet', 'kitchen_counter', 'knife', 'light', 'lighting', 'living_room', 'love_seat', 'mat', 'mousepad', 'mug', 'napkin', 'notes', 'novel', 'oil', 'oven', 'painting', 'paper_towel', 'phone', 'pot', 'printing_paper', 'receipt', 'remote_control', 'sauce', 'sauce_pan', 'shampoo', 'shoes', 'shower', 'soap', 'sponge', 'stereo', 'table', 'telephone', 'television', 'textbook', 'toilet_paper', 'tooth_paste', 'towel_rack', 'trashcan', 'tray', 'wall_clock', 'water_glass', 'wine_glass']\n"
     ]
    }
   ],
   "source": [
    "json_open = open('class_name_equivalence_new.json', 'r')\n",
    "object_name_equivalence = json.load(json_open)\n",
    "\n",
    "# virtualhomeで定義された object_list中の同義語一覧\n",
    "equivalence_object = [k for obj in object_list for k, v in object_name_equivalence.items() if obj in str(v).replace(\"_\",\"\")]\n",
    "equivalence_object = sorted(list(set(equivalence_object)))\n",
    "print(equivalence_object)"
   ]
  },
  {
   "cell_type": "code",
   "execution_count": 6,
   "metadata": {},
   "outputs": [
    {
     "name": "stdout",
     "output_type": "stream",
     "text": [
      "Starting scene...\n",
      "Generating video...\n"
     ]
    },
    {
     "data": {
      "text/plain": [
       "(True, {'0': {'message': 'Success'}})"
      ]
     },
     "execution_count": 6,
     "metadata": {},
     "output_type": "execute_result"
    }
   ],
   "source": [
    "script = ['<char0> [WALK] <cellphone> (1)', '<char0> [GRAB] <cellphone> (1)'] # Add here your script\n",
    "print('Starting scene...')\n",
    "comm.reset(0)\n",
    "comm.add_character('Chars/male1', initial_room='bathroom')\n",
    "success, graph = comm.environment_graph()\n",
    "print('Generating video...')\n",
    "comm.render_script(script, find_solution=True, recording=True, file_name_prefix='wall')"
   ]
  },
  {
   "cell_type": "code",
   "execution_count": 23,
   "metadata": {},
   "outputs": [],
   "source": [
    "def change_obj_name(obj):\n",
    "    if obj in object_list:\n",
    "        return obj\n",
    "    \n",
    "    elif str(obj).replace(\"_\",\"\") in object_list:\n",
    "        return str(obj).replace(\"_\",\"\")\n",
    "    \n",
    "    elif obj in equivalence_object:\n",
    "        for key, value in object_name_equivalence.items():\n",
    "            if obj==key:\n",
    "                o = list(set(object_list) & set([str(v).replace(\"_\",\"\") for v in value]))\n",
    "                if o[0]==\"wallphone\":\n",
    "                    o[0]=\"cellphone\"\n",
    "                return o[0]\n",
    "    else:\n",
    "        return str(obj).replace(\"_\",\"\")\n",
    "    "
   ]
  },
  {
   "cell_type": "code",
   "execution_count": 34,
   "metadata": {},
   "outputs": [
    {
     "name": "stdout",
     "output_type": "stream",
     "text": [
      "dataset/1\\file1003_2.txt\n",
      "['<char0> [RUN] <livingroom> (1)', '<char0> [WALK] <computer> (1)', '<char0> [SWITCHON] <computer> (1)', '<char0> [FIND] <chair> (1)', '<char0> [SIT] <chair> (1)', '<char0> [FIND] <mouse> (1)', '<char0> [GRAB] <mouse> (1)', '<char0> [TOUCH] <mouse> (1)', '<char0> [TURNTO] <computer> (1)', '<char0> [LOOKAT] <computer> (1)', '<char0> [FIND] <keyboard> (1)', '<char0> [GRAB] <keyboard> (1)', '<char0> [TOUCH] <keyboard> (1)', '<char0> [TYPE] <keyboard> (1)', '<char0> [TURNTO] <computer> (1)', '<char0> [LOOKAT] <computer> (1)', '<char0> [TYPE] <keyboard> (1)', '<char0> [TURNTO] <computer> (1)', '<char0> [LOOKAT] <computer> (1)', '<char0> [TYPE] <keyboard> (1)', '<char0> [TOUCH] <mouse> (1)', '<char0> [SWITCHOFF] <computer> (1)']\n",
      "file1003_2.txt\n",
      "dataset/1\\file1004_2.txt\n",
      "['<char0> [WALK] <kitchen> (1)', '<char0> [WALK] <fridge> (1)', '<char0> [FIND] <plum> (1)', '<char0> [GRAB] <plum> (1)', '<char0> [OPEN] <fridge> (1)', '<char0> [PUTIN] <plum> (1) <fridge> (1)']\n",
      "file1004_2.txt\n",
      "dataset/1\\file1007_2.txt\n",
      "['<char0> [WALK] <bathroom> (1)', '<char0> [RUN] <toilet> (1)']\n",
      "file1007_2.txt\n",
      "dataset/1\\file1019_1.txt\n",
      "['<char0> [WALK] <livingroom> (1)', '<char0> [WALK] <coffeetable> (1)', '<char0> [FIND] <coffeetable> (1)', '<char0> [TURNTO] <coffeetable> (1)', '<char0> [LOOKAT] <coffeetable> (1)', '<char0> [FIND] <remotecontrol> (1)', '<char0> [GRAB] <remotecontrol> (1)', '<char0> [FIND] <tv> (1)', '<char0> [TURNTO] <tv> (1)', '<char0> [POINTAT] <tv> (1)', '<char0> [PUTOBJBACK] <remotecontrol> (1)']\n",
      "file1019_1.txt\n",
      "dataset/1\\file101_2.txt\n",
      "['<char0> [WALK] <livingroom> (1)', '<char0> [WALK] <computer> (1)', '<char0> [FIND] <computer> (1)', '<char0> [SWITCHON] <computer> (1)', '<char0> [FIND] <keyboard> (1)', '<char0> [TYPE] <keyboard> (1)', '<char0> [FIND] <mouse> (1)', '<char0> [PUSH] <mouse> (1)', '<char0> [TURNTO] <computer> (1)', '<char0> [LOOKAT] <computer> (1)']\n",
      "file101_2.txt\n",
      "dataset/1\\file1021_1.txt\n",
      "['<char0> [FIND] <dishwasher> (1)', '<char0> [OPEN] <dishwasher> (1)', '<char0> [FIND] <plate> (1)', '<char0> [GRAB] <plate> (1)', '<char0> [PUTBACK] <plate> (1) <dishwasher> (1)', '<char0> [WALK] <dishwashingliquid> (1)', '<char0> [FIND] <dishwashingliquid> (1)', '<char0> [GRAB] <dishwashingliquid> (1)', '<char0> [POUR] <dishwashingliquid> (1) <plate> (1)', '<char0> [CLOSE] <dishwasher> (1)', '<char0> [SWITCHON] <dishwasher> (1)']\n",
      "file1021_1.txt\n",
      "dataset/1\\file1026_1.txt\n",
      "['<char0> [WALK] <livingroom> (1)', '<char0> [WALK] <remotecontrol> (1)', '<char0> [FIND] <remotecontrol> (1)', '<char0> [GRAB] <remotecontrol> (1)', '<char0> [FIND] <tv> (1)', '<char0> [SWITCHON] <tv> (1)', '<char0> [PUTOBJBACK] <remotecontrol> (1)']\n",
      "file1026_1.txt\n",
      "dataset/1\\file1027_2.txt\n",
      "['<char0> [WALK] <bedroom> (1)', '<char0> [WALK] <bed> (1)', '<char0> [LIE] <bed> (1)', '<char0> [SLEEP]']\n",
      "file1027_2.txt\n",
      "dataset/1\\file102_1.txt\n",
      "['<char0> [WALK] <bathroom> (1)', '<char0> [WALK] <sink> (1)', '<char0> [FIND] <faucet> (1)', '<char0> [TURNTO] <faucet> (1)', '<char0> [FIND] <handsboth> (1)', '<char0> [WASH] <handsboth> (1)']\n",
      "file102_1.txt\n",
      "dataset/1\\file102_2.txt\n",
      "['<char0> [WALK] <livingroom> (1)', '<char0> [WALK] <remotecontrol> (1)', '<char0> [FIND] <remotecontrol> (1)', '<char0> [GRAB] <remotecontrol> (1)', '<char0> [FIND] <sofa> (1)', '<char0> [SIT] <sofa> (1)', '<char0> [FIND] <tv> (1)', '<char0> [SWITCHON] <tv> (1)', '<char0> [FIND] <button> (1)', '<char0> [PUSH] <button> (1)']\n",
      "file102_2.txt\n",
      "dataset/1\\file1035_1.txt\n",
      "['<char0> [FIND] <cat> (1)', '<char0> [TOUCH] <cat> (1)']\n",
      "file1035_1.txt\n",
      "dataset/1\\file1040_2.txt\n",
      "['<char0> [WALK] <livingroom> (1)', '<char0> [WALK] <computer> (1)', '<char0> [FIND] <computer> (1)', '<char0> [TURNTO] <computer> (1)', '<char0> [LOOKAT] <computer> (1)', '<char0> [WALK] <computer> (1)', '<char0> [FIND] <chair> (1)', '<char0> [SIT] <chair> (1)', '<char0> [FIND] <keyboard> (1)', '<char0> [GRAB] <keyboard> (1)', '<char0> [FIND] <mouse> (1)', '<char0> [GRAB] <mouse> (1)', '<char0> [TYPE] <keyboard> (1)']\n",
      "file1040_2.txt\n",
      "dataset/1\\file1043_2.txt\n",
      "['<char0> [FIND] <chair> (1)', '<char0> [SIT] <chair> (1)', '<char0> [FIND] <computer> (1)', '<char0> [SWITCHON] <computer> (1)', '<char0> [TURNTO] <computer> (1)', '<char0> [LOOKAT] <computer> (1)', '<char0> [FIND] <keyboard> (1)', '<char0> [TYPE] <keyboard> (1)', '<char0> [TURNTO] <computer> (1)', '<char0> [LOOKAT] <computer> (1)', '<char0> [TYPE] <keyboard> (1)', '<char0> [TURNTO] <computer> (1)', '<char0> [LOOKAT] <computer> (1)']\n",
      "file1043_2.txt\n",
      "dataset/1\\file1045_1.txt\n",
      "['<char0> [WALK] <bathroom> (1)', '<char0> [WALK] <toothpaste> (1)', '<char0> [FIND] <toothpaste> (1)', '<char0> [SCRUB] <toothpaste> (1)', '<char0> [FIND] <toothbrush> (1)', '<char0> [WASH] <toothbrush> (1)', '<char0> [FIND] <sink> (1)', '<char0> [RINSE] <sink> (1)']\n",
      "file1045_1.txt\n",
      "dataset/1\\file1045_2.txt\n",
      "['<char0> [STANDUP]', '<char0> [WALK] <bathroom> (1)', '<char0> [WALK] <laundrydetergent> (1)', '<char0> [FIND] <laundrydetergent> (1)', '<char0> [GRAB] <laundrydetergent> (1)', '<char0> [FIND] <washingmachine> (1)', '<char0> [OPEN] <washingmachine> (1)', '<char0> [FIND] <sheets> (1)', '<char0> [GRAB] <sheets> (1)', '<char0> [PUTBACK] <sheets> (1) <washingmachine> (1)']\n",
      "file1045_2.txt\n",
      "dataset/1\\file1046_1.txt\n",
      "['<char0> [WALK] <livingroom> (1)', '<char0> [WALK] <desk> (1)', '<char0> [FIND] <chair> (1)', '<char0> [SIT] <chair> (1)', '<char0> [FIND] <computer> (1)', '<char0> [SWITCHON] <computer> (1)', '<char0> [FIND] <keyboard> (1)', '<char0> [TYPE] <keyboard> (1)']\n",
      "file1046_1.txt\n",
      "dataset/1\\file1047_1.txt\n",
      "['<char0> [WALK] <livingroom> (1)', '<char0> [WALK] <chair> (1)', '<char0> [FIND] <chair> (1)', '<char0> [SIT] <chair> (1)', '<char0> [FIND] <computer> (1)', '<char0> [SWITCHON] <computer> (1)', '<char0> [FIND] <mouse> (1)', '<char0> [TOUCH] <mouse> (1)', '<char0> [FIND] <keyboard> (1)', '<char0> [TYPE] <keyboard> (1)']\n",
      "file1047_1.txt\n",
      "dataset/1\\file1047_2.txt\n",
      "['<char0> [WALK] <kitchen> (1)', '<char0> [WALK] <sink> (1)', '<char0> [FIND] <plate> (1)', '<char0> [GRAB] <plate> (1)', '<char0> [FIND] <dishwasher> (1)', '<char0> [OPEN] <dishwasher> (1)', '<char0> [PUTBACK] <plate> (1) <dishwasher> (1)', '<char0> [FIND] <dishwasher> (1)', '<char0> [CLOSE] <dishwasher> (1)', '<char0> [SWITCHON] <dishwasher> (1)']\n",
      "file1047_2.txt\n",
      "dataset/1\\file1049_1.txt\n",
      "['<char0> [WALK] <livingroom> (1)', '<char0> [WALK] <dvdplayer> (1)', '<char0> [FIND] <dvdplayer> (1)', '<char0> [TURNTO] <dvdplayer> (1)', '<char0> [LOOKAT] <dvdplayer> (1)', '<char0> [SWITCHON] <dvdplayer> (1)', '<char0> [FIND] <sofa> (1)', '<char0> [TURNTO] <sofa> (1)', '<char0> [LOOKAT] <sofa> (1)', '<char0> [SIT] <sofa> (1)']\n",
      "file1049_1.txt\n",
      "dataset/1\\file1057_1.txt\n",
      "['<char0> [WALK] <livingroom> (1)', '<char0> [WALK] <sofa> (1)', '<char0> [FIND] <sofa> (1)', '<char0> [SIT] <sofa> (1)', '<char0> [FIND] <remotecontrol> (1)', '<char0> [FIND] <tv> (1)', '<char0> [SWITCHON] <tv> (1)', '<char0> [TURNTO] <tv> (1)', '<char0> [WATCH] <tv> (1)']\n",
      "file1057_1.txt\n",
      "dataset/1\\file1063_2.txt\n",
      "['<char0> [WALK] <livingroom> (1)', '<char0> [WALK] <bedroom> (1)', '<char0> [WALK] <bedroom> (1)', '<char0> [WALK] <livingroom> (1)', '<char0> [WALK] <livingroom> (1)', '<char0> [WALK] <cat> (1)', '<char0> [FIND] <cat> (1)', '<char0> [FIND] <brush> (1)', '<char0> [GRAB] <brush> (1)']\n",
      "file1063_2.txt\n",
      "dataset/1\\file1064_1.txt\n",
      "['<char0> [WALK] <kitchen> (1)', '<char0> [WALK] <waterglass> (1)', '<char0> [FIND] <waterglass> (1)', '<char0> [GRAB] <waterglass> (1)', '<char0> [DRINK] <waterglass> (1)']\n",
      "file1064_1.txt\n",
      "dataset/1\\file1065_1.txt\n",
      "['<char0> [FIND] <remotecontrol> (1)', '<char0> [TURNTO] <remotecontrol> (1)', '<char0> [LOOKAT] <remotecontrol> (1)', '<char0> [TURNTO] <remotecontrol> (1)', '<char0> [WALK] <remotecontrol> (1)', '<char0> [GRAB] <remotecontrol> (1)', '<char0> [FIND] <tv> (1)', '<char0> [TURNTO] <tv> (1)', '<char0> [LOOKAT] <tv> (1)', '<char0> [TURNTO] <tv> (1)', '<char0> [WATCH] <tv> (1)', '<char0> [POINTAT] <tv> (1)', '<char0> [SWITCHON] <tv> (1)']\n",
      "file1065_1.txt\n",
      "dataset/1\\file1068_1.txt\n",
      "['<char0> [WALK] <livingroom> (1)', '<char0> [WALK] <computer> (1)', '<char0> [FIND] <computer> (1)', '<char0> [SWITCHON] <computer> (1)']\n",
      "file1068_1.txt\n",
      "dataset/1\\file1070_1.txt\n",
      "['<char0> [WALK] <bathroom> (1)', '<char0> [WALK] <toothbrushholder> (1)', '<char0> [FIND] <toothbrushholder> (1)', '<char0> [TURNTO] <toothbrushholder> (1)', '<char0> [LOOKAT] <toothbrushholder> (1)', '<char0> [FIND] <toothbrush> (1)', '<char0> [GRAB] <toothbrush> (1)', '<char0> [FIND] <toothpaste> (1)', '<char0> [SQUEEZE] <toothpaste> (1)', '<char0> [FIND] <teeth> (1)', '<char0> [WASH] <teeth> (1)']\n",
      "file1070_1.txt\n"
     ]
    },
    {
     "name": "stdout",
     "output_type": "stream",
     "text": [
      "dataset/1\\file1073_1.txt\n",
      "['<char0> [WALK] <livingroom> (1)', '<char0> [WALK] <lightswitch> (1)', '<char0> [FIND] <lightswitch> (1)', '<char0> [SWITCHON] <lightswitch> (1)', '<char0> [FIND] <book> (1)', '<char0> [GRAB] <book> (1)', '<char0> [FIND] <chair> (1)', '<char0> [SIT] <chair> (1)', '<char0> [READ] <book> (1)']\n",
      "file1073_1.txt\n",
      "dataset/1\\file1073_2.txt\n",
      "['<char0> [WALK] <bathroom> (1)', '<char0> [WALK] <washingmachine> (1)', '<char0> [FIND] <washingmachine> (1)', '<char0> [OPEN] <washingmachine> (1)', '<char0> [FIND] <clothespile> (1)', '<char0> [GRAB] <clothespile> (1)', '<char0> [FIND] <clothespants> (1)', '<char0> [GRAB] <clothespants> (1)', '<char0> [PUTBACK] <clothespants> (1) <washingmachine> (1)', '<char0> [FIND] <clothesshirt> (1)', '<char0> [GRAB] <clothesshirt> (1)', '<char0> [PUTBACK] <clothesshirt> (1) <washingmachine> (1)', '<char0> [PUTOBJBACK] <clothespile> (1)', '<char0> [WALK] <laundrydetergent> (1)', '<char0> [FIND] <laundrydetergent> (1)', '<char0> [GRAB] <laundrydetergent> (1)', '<char0> [POUR] <laundrydetergent> (1) <washingmachine> (1)', '<char0> [CLOSE] <washingmachine> (1)', '<char0> [SWITCHON] <washingmachine> (1)']\n",
      "file1073_2.txt\n",
      "dataset/1\\file1083_1.txt\n",
      "['<char0> [WALK] <livingroom> (1)', '<char0> [WALK] <electricaloutlet> (1)', '<char0> [FIND] <electricaloutlet> (1)', '<char0> [SWITCHON] <electricaloutlet> (1)']\n",
      "file1083_1.txt\n",
      "dataset/1\\file1083_2.txt\n",
      "['<char0> [WALK] <kitchen> (1)', '<char0> [WALK] <stove> (1)', '<char0> [FIND] <stove> (1)', '<char0> [FIND] <fryingpan> (1)', '<char0> [FIND] <foodvegetable> (1)', '<char0> [FIND] <water> (1)', '<char0> [GRAB] <water> (1)', '<char0> [WASH] <foodvegetable> (1)', '<char0> [POUR] <water> (1) <fryingpan> (1)', '<char0> [FIND] <fryingpan> (1)', '<char0> [GRAB] <fryingpan> (1)', '<char0> [PUTBACK] <fryingpan> (1) <stove> (1)', '<char0> [SWITCHON] <stove> (1)']\n",
      "file1083_2.txt\n",
      "dataset/1\\file1085_2.txt\n",
      "['<char0> [WALK] <livingroom> (1)', '<char0> [WALK] <computer> (1)', '<char0> [FIND] <computer> (1)', '<char0> [SWITCHON] <computer> (1)', '<char0> [FIND] <keyboard> (1)', '<char0> [FIND] <mouse> (1)', '<char0> [FIND] <paper> (1)', '<char0> [FIND] <homework> (1)', '<char0> [GRAB] <homework> (1)', '<char0> [FIND] <homework> (1)', '<char0> [READ] <homework> (1)', '<char0> [SWITCHOFF] <computer> (1)']\n",
      "file1085_2.txt\n",
      "dataset/1\\file1087_1.txt\n",
      "['<char0> [FIND] <spectacles> (1)', '<char0> [GRAB] <spectacles> (1)', '<char0> [RUN] <bedroom> (1)', '<char0> [WALK] <book> (1)', '<char0> [FIND] <book> (1)', '<char0> [GRAB] <book> (1)', '<char0> [READ] <book> (1)', '<char0> [DROP] <book> (1)', '<char0> [DROP] <spectacles> (1)']\n",
      "file1087_1.txt\n",
      "dataset/1\\file1088_1.txt\n",
      "['<char0> [WALK] <cabinet> (1)', '<char0> [FIND] <book> (1)', '<char0> [GRAB] <book> (1)', '<char0> [WALK] <sofa> (1)', '<char0> [READ] <book> (1)']\n",
      "file1088_1.txt\n",
      "dataset/1\\file10_2.txt\n",
      "['<char0> [WALK] <kitchen> (1)', '<char0> [WALK] <wineglass> (1)', '<char0> [FIND] <wineglass> (1)', '<char0> [TURNTO] <wineglass> (1)', '<char0> [LOOKAT] <wineglass> (1)', '<char0> [WALK] <wineglass> (1)', '<char0> [FIND] <fridge> (1)', '<char0> [TURNTO] <fridge> (1)', '<char0> [LOOKAT] <fridge> (1)', '<char0> [WALK] <fridge> (1)', '<char0> [GRAB] <wineglass> (1)', '<char0> [WALK] <water> (1)', '<char0> [FIND] <water> (1)', '<char0> [GRAB] <water> (1)', '<char0> [POUR] <water> (1) <wineglass> (1)']\n",
      "file10_2.txt\n",
      "dataset/1\\file113_1.txt\n",
      "['<char0> [FIND] <radio> (1)', '<char0> [SWITCHON] <radio> (1)', '<char0> [TOUCH] <radio> (1)']\n",
      "file113_1.txt\n",
      "dataset/1\\file113_2.txt\n",
      "['<char0> [FIND] <cat> (1)', '<char0> [TOUCH] <cat> (1)']\n",
      "file113_2.txt\n",
      "dataset/1\\file115_2.txt\n",
      "['<char0> [WALK] <livingroom> (1)', '<char0> [WALK] <chair> (1)', '<char0> [FIND] <chair> (1)', '<char0> [SIT] <chair> (1)', '<char0> [FIND] <computer> (1)', '<char0> [SWITCHON] <computer> (1)', '<char0> [TURNTO] <computer> (1)', '<char0> [LOOKAT] <computer> (1)', '<char0> [FIND] <keyboard> (1)', '<char0> [TYPE] <keyboard> (1)']\n",
      "file115_2.txt\n",
      "dataset/1\\file117_1.txt\n",
      "['<char0> [WALK] <livingroom> (1)', '<char0> [WALK] <remotecontrol> (1)', '<char0> [FIND] <remotecontrol> (1)', '<char0> [GRAB] <remotecontrol> (1)', '<char0> [FIND] <sofa> (1)', '<char0> [SIT] <sofa> (1)', '<char0> [FIND] <tv> (1)', '<char0> [TURNTO] <tv> (1)', '<char0> [LOOKAT] <tv> (1)', '<char0> [TURNTO] <tv> (1)', '<char0> [POINTAT] <tv> (1)', '<char0> [SWITCHON] <tv> (1)', '<char0> [PUSH] <remotecontrol> (1)', '<char0> [WATCH] <tv> (1)']\n",
      "file117_1.txt\n",
      "dataset/1\\file119_1.txt\n",
      "['<char0> [WALK] <kitchen> (1)', '<char0> [WALK] <plum> (1)', '<char0> [FIND] <plum> (1)', '<char0> [GRAB] <plum> (1)', '<char0> [FIND] <fridge> (1)', '<char0> [OPEN] <fridge> (1)', '<char0> [PUTIN] <plum> (1) <fridge> (1)', '<char0> [CLOSE] <fridge> (1)']\n",
      "file119_1.txt\n",
      "dataset/1\\file11_1.txt\n",
      "['<char0> [WALK] <bedroom> (1)', '<char0> [WALK] <floorlamp> (1)', '<char0> [FIND] <floorlamp> (1)', '<char0> [TOUCH] <floorlamp> (1)', '<char0> [SWITCHON] <floorlamp> (1)']\n",
      "file11_1.txt\n",
      "dataset/1\\file120_1.txt\n",
      "['<char0> [RUN] <kitchen> (1)', '<char0> [WALK] <lightswitch> (1)', '<char0> [FIND] <lightswitch> (1)', '<char0> [SWITCHON] <lightswitch> (1)', '<char0> [WALK] <livingroom> (1)', '<char0> [WALK] <lightswitch> (1)', '<char0> [FIND] <lightswitch> (1)', '<char0> [SWITCHON] <lightswitch> (1)', '<char0> [FIND] <floorlamp> (1)', '<char0> [SWITCHON] <floorlamp> (1)']\n",
      "file120_1.txt\n",
      "dataset/1\\file122_2.txt\n",
      "['<char0> [WALK] <livingroom> (1)', '<char0> [WALK] <computer> (1)', '<char0> [FIND] <computer> (1)', '<char0> [TURNTO] <computer> (1)', '<char0> [LOOKAT] <computer> (1)', '<char0> [FIND] <chair> (1)', '<char0> [SIT] <chair> (1)', '<char0> [SWITCHON] <computer> (1)', '<char0> [TURNTO] <computer> (1)', '<char0> [FIND] <mouse> (1)', '<char0> [TURNTO] <mouse> (1)', '<char0> [POINTAT] <mouse> (1)']\n",
      "file122_2.txt\n",
      "dataset/1\\file124_1.txt\n",
      "['<char0> [WALK] <livingroom> (1)', '<char0> [WALK] <sofa> (1)', '<char0> [FIND] <sofa> (1)', '<char0> [SIT] <sofa> (1)']\n",
      "file124_1.txt\n",
      "dataset/1\\file125_2.txt\n",
      "['<char0> [WALK] <livingroom> (1)', '<char0> [WALK] <lightswitch> (1)', '<char0> [FIND] <lightswitch> (1)', '<char0> [PLUGIN] <lightswitch> (1)', '<char0> [SWITCHON] <lightswitch> (1)', '<char0> [FIND] <chair> (1)', '<char0> [SIT] <chair> (1)']\n",
      "file125_2.txt\n",
      "dataset/1\\file12_2.txt\n",
      "['<char0> [WALK] <livingroom> (1)', '<char0> [WALK] <cat> (1)', '<char0> [FIND] <cat> (1)', '<char0> [TURNTO] <cat> (1)', '<char0> [LOOKAT] <cat> (1)', '<char0> [TOUCH] <cat> (1)']\n",
      "file12_2.txt\n",
      "dataset/1\\file133_2.txt\n",
      "['<char0> [WALK] <livingroom> (1)', '<char0> [WALK] <tv> (1)', '<char0> [FIND] <tv> (1)', '<char0> [SWITCHON] <tv> (1)', '<char0> [FIND] <sofa> (1)', '<char0> [SIT] <sofa> (1)', '<char0> [FIND] <remotecontrol> (1)', '<char0> [GRAB] <remotecontrol> (1)', '<char0> [TURNTO] <tv> (1)', '<char0> [POINTAT] <tv> (1)', '<char0> [DROP] <remotecontrol> (1)']\n",
      "file133_2.txt\n",
      "dataset/1\\file134_1.txt\n",
      "['<char0> [WALK] <livingroom> (1)', '<char0> [WALK] <tv> (1)', '<char0> [FIND] <tv> (1)', '<char0> [PLUGIN] <tv> (1)', '<char0> [SWITCHON] <tv> (1)', '<char0> [FIND] <sofa> (1)', '<char0> [SIT] <sofa> (1)', '<char0> [FIND] <remotecontrol> (1)', '<char0> [GRAB] <remotecontrol> (1)', '<char0> [DROP] <remotecontrol> (1)', '<char0> [TURNTO] <tv> (1)', '<char0> [LOOKAT] <tv> (1)']\n",
      "file134_1.txt\n",
      "dataset/1\\file135_2.txt\n",
      "['<char0> [WALK] <livingroom> (1)', '<char0> [WALK] <livingroom> (1)', '<char0> [WALK] <computer> (1)', '<char0> [FIND] <computer> (1)', '<char0> [SWITCHON] <computer> (1)', '<char0> [FIND] <button> (1)', '<char0> [TURNTO] <button> (1)', '<char0> [LOOKAT] <button> (1)', '<char0> [FIND] <mouse> (1)', '<char0> [GRAB] <mouse> (1)', '<char0> [GRAB] <button> (1)', '<char0> [FIND] <chair> (1)', '<char0> [SIT] <chair> (1)', '<char0> [SWITCHOFF] <computer> (1)']\n",
      "file135_2.txt\n",
      "dataset/1\\file137_1.txt\n",
      "['<char0> [WALK] <livingroom> (1)', '<char0> [WALK] <sofa> (1)', '<char0> [FIND] <sofa> (1)', '<char0> [WALK] <sofa> (1)', '<char0> [SIT] <sofa> (1)']\n",
      "file137_1.txt\n",
      "dataset/1\\file137_2.txt\n",
      "['<char0> [FIND] <cat> (1)', '<char0> [TOUCH] <cat> (1)']\n",
      "file137_2.txt\n",
      "dataset/1\\file138_2.txt\n",
      "['<char0> [FIND] <clothespants> (1)', '<char0> [GRAB] <clothespants> (1)', '<char0> [WALK] <bathroom> (1)', '<char0> [WALK] <washingmachine> (1)', '<char0> [FIND] <washingmachine> (1)', '<char0> [OPEN] <washingmachine> (1)', '<char0> [PUTBACK] <clothespants> (1) <washingmachine> (1)', '<char0> [WALK] <laundrydetergent> (1)', '<char0> [FIND] <laundrydetergent> (1)', '<char0> [GRAB] <laundrydetergent> (1)', '<char0> [POUR] <laundrydetergent> (1) <washingmachine> (1)', '<char0> [CLOSE] <washingmachine> (1)', '<char0> [SWITCHON] <washingmachine> (1)']\n",
      "file138_2.txt\n"
     ]
    },
    {
     "name": "stdout",
     "output_type": "stream",
     "text": [
      "dataset/1\\file13_2.txt\n",
      "['<char0> [WALK] <livingroom> (1)', '<char0> [WALK] <computer> (1)', '<char0> [FIND] <computer> (1)', '<char0> [SWITCHON] <computer> (1)', '<char0> [FIND] <keyboard> (1)', '<char0> [TYPE] <keyboard> (1)']\n",
      "file13_2.txt\n",
      "dataset/1\\file140_1.txt\n",
      "['<char0> [WALK] <livingroom> (1)', '<char0> [WALK] <tv> (1)', '<char0> [FIND] <tv> (1)', '<char0> [SWITCHON] <tv> (1)', '<char0> [FIND] <remotecontrol> (1)', '<char0> [GRAB] <remotecontrol> (1)', '<char0> [FIND] <button> (1)', '<char0> [TOUCH] <button> (1)']\n",
      "file140_1.txt\n",
      "dataset/1\\file140_2.txt\n",
      "['<char0> [WALK] <bedroom> (1)', '<char0> [WALK] <bed> (1)', '<char0> [FIND] <bed> (1)', '<char0> [TURNTO] <bed> (1)', '<char0> [LOOKAT] <bed> (1)', '<char0> [SIT] <bed> (1)', '<char0> [SLEEP]']\n",
      "file140_2.txt\n",
      "dataset/1\\file141_1.txt\n",
      "['<char0> [WALK] <kitchen> (1)', '<char0> [WALK] <fridge> (1)', '<char0> [OPEN] <fridge> (1)', '<char0> [FIND] <plum> (1)', '<char0> [CLOSE] <fridge> (1)', '<char0> [WALK] <microwave> (1)', '<char0> [SWITCHON] <microwave> (1)', '<char0> [SWITCHOFF] <microwave> (1)']\n",
      "file141_1.txt\n",
      "dataset/1\\file144_1.txt\n",
      "['<char0> [WALK] <livingroom> (1)', '<char0> [WALK] <sofa> (1)', '<char0> [FIND] <sofa> (1)', '<char0> [SIT] <sofa> (1)', '<char0> [FIND] <remotecontrol> (1)', '<char0> [TURNTO] <remotecontrol> (1)', '<char0> [FIND] <tv> (1)', '<char0> [TURNTO] <tv> (1)', '<char0> [WATCH] <tv> (1)']\n",
      "file144_1.txt\n",
      "dataset/1\\file145_1.txt\n",
      "['<char0> [WALK] <livingroom> (1)', '<char0> [WALK] <desk> (1)', '<char0> [FIND] <chair> (1)', '<char0> [SIT] <chair> (1)', '<char0> [FIND] <computer> (1)', '<char0> [SWITCHON] <computer> (1)']\n",
      "file145_1.txt\n",
      "dataset/1\\file149_1.txt\n",
      "['<char0> [STANDUP]', '<char0> [WALK] <livingroom> (1)', '<char0> [WALK] <cellphone> (1)', '<char0> [FIND] <cellphone> (1)', '<char0> [WALK] <kitchentable> (1)', '<char0> [GRAB] <cellphone> (1)']\n",
      "file149_1.txt\n",
      "dataset/1\\file14_1.txt\n",
      "['<char0> [WALK] <livingroom> (1)', '<char0> [WALK] <radio> (1)', '<char0> [FIND] <radio> (1)', '<char0> [TURNTO] <radio> (1)', '<char0> [LOOKAT] <radio> (1)', '<char0> [FIND] <button> (1)', '<char0> [GRAB] <button> (1)']\n",
      "file14_1.txt\n",
      "dataset/1\\file150_2.txt\n",
      "['<char0> [WALK] <livingroom> (1)', '<char0> [WALK] <lightswitch> (1)', '<char0> [FIND] <lightswitch> (1)', '<char0> [SWITCHON] <lightswitch> (1)']\n",
      "file150_2.txt\n",
      "dataset/1\\file151_2.txt\n",
      "['<char0> [WALK] <kitchen> (1)', '<char0> [WALK] <dishwasher> (1)', '<char0> [FIND] <dishwasher> (1)', '<char0> [OPEN] <dishwasher> (1)', '<char0> [FIND] <dishwashingliquid> (1)', '<char0> [GRAB] <dishwashingliquid> (1)', '<char0> [PUTBACK] <dishwashingliquid> (1) <dishwasher> (1)', '<char0> [FIND] <cutleryfork> (1)', '<char0> [GRAB] <cutleryfork> (1)', '<char0> [FIND] <dishrack> (1)', '<char0> [PUTBACK] <cutleryfork> (1) <dishrack> (1)', '<char0> [FIND] <plate> (1)', '<char0> [GRAB] <plate> (1)', '<char0> [PUTBACK] <plate> (1) <dishrack> (1)', '<char0> [FIND] <spoon> (1)', '<char0> [GRAB] <spoon> (1)', '<char0> [PUTBACK] <spoon> (1) <dishrack> (1)', '<char0> [FIND] <cutleryknife> (1)', '<char0> [GRAB] <cutleryknife> (1)', '<char0> [PUTBACK] <cutleryknife> (1) <dishrack> (1)', '<char0> [CLOSE] <dishwasher> (1)', '<char0> [SWITCHON] <dishwasher> (1)']\n",
      "file151_2.txt\n",
      "dataset/1\\file152_2.txt\n",
      "['<char0> [WALK] <kitchen> (1)', '<char0> [WALK] <plum> (1)', '<char0> [FIND] <plum> (1)', '<char0> [GRAB] <plum> (1)', '<char0> [FIND] <fridge> (1)', '<char0> [OPEN] <fridge> (1)', '<char0> [PUTIN] <plum> (1) <fridge> (1)']\n",
      "file152_2.txt\n",
      "dataset/1\\file153_2.txt\n",
      "['<char0> [WALK] <livingroom> (1)', '<char0> [WALK] <computer> (1)', '<char0> [FIND] <computer> (1)', '<char0> [SWITCHON] <computer> (1)']\n",
      "file153_2.txt\n",
      "dataset/1\\file154_1.txt\n",
      "['<char0> [WALK] <bedroom> (1)', '<char0> [WALK] <cellphone> (1)', '<char0> [FIND] <cellphone> (1)', '<char0> [GRAB] <cellphone> (1)', '<char0> [TURNTO] <cellphone> (1)', '<char0> [LOOKAT] <cellphone> (1)', '<char0> [FIND] <button> (1)', '<char0> [PUSH] <button> (1)']\n",
      "file154_1.txt\n",
      "dataset/1\\file154_2.txt\n",
      "['<char0> [WALK] <bathroom> (1)', '<char0> [WALK] <sink> (1)', '<char0> [FIND] <faucet> (1)', '<char0> [SWITCHON] <faucet> (1)', '<char0> [FIND] <barsoap> (1)', '<char0> [GRAB] <barsoap> (1)', '<char0> [FIND] <handsboth> (1)', '<char0> [WASH] <handsboth> (1)', '<char0> [RINSE] <handsboth> (1)', '<char0> [SWITCHOFF] <faucet> (1)', '<char0> [FIND] <towel> (1)', '<char0> [GRAB] <towel> (1)', '<char0> [FIND] <handsboth> (1)', '<char0> [WIPE] <handsboth> (1)']\n",
      "file154_2.txt\n",
      "dataset/1\\file155_2.txt\n",
      "['<char0> [WALK] <kitchen> (1)', '<char0> [WALK] <fridge> (1)', '<char0> [FIND] <fridge> (1)', '<char0> [OPEN] <fridge> (1)', '<char0> [FIND] <plum> (1)', '<char0> [GRAB] <plum> (1)', '<char0> [PUTIN] <plum> (1) <fridge> (1)', '<char0> [CLOSE] <fridge> (1)']\n",
      "file155_2.txt\n",
      "dataset/1\\file156_1.txt\n",
      "['<char0> [WALK] <kitchen> (1)', '<char0> [WALK] <wineglass> (1)', '<char0> [FIND] <wineglass> (1)', '<char0> [GRAB] <wineglass> (1)', '<char0> [FIND] <faucet> (1)', '<char0> [WALK] <sink> (1)', '<char0> [PUTBACK] <wineglass> (1) <sink> (1)', '<char0> [SWITCHON] <faucet> (1)', '<char0> [SWITCHOFF] <faucet> (1)', '<char0> [GRAB] <wineglass> (1)', '<char0> [DRINK] <wineglass> (1)']\n",
      "file156_1.txt\n",
      "dataset/1\\file158_1.txt\n",
      "['<char0> [STANDUP]', '<char0> [WALK] <bathroom> (1)', '<char0> [WALK] <toilet> (1)', '<char0> [FIND] <toilet> (1)', '<char0> [TURNTO] <toilet> (1)', '<char0> [LOOKAT] <toilet> (1)']\n",
      "file158_1.txt\n",
      "dataset/1\\file158_2.txt\n",
      "['<char0> [STANDUP]', '<char0> [WALK] <bathroom> (1)', '<char0> [WALK] <sink> (1)', '<char0> [FIND] <sink> (1)', '<char0> [TURNTO] <sink> (1)', '<char0> [LOOKAT] <sink> (1)', '<char0> [FIND] <teeth> (1)', '<char0> [WASH] <teeth> (1)']\n",
      "file158_2.txt\n",
      "dataset/1\\file15_2.txt\n",
      "['<char0> [WALK] <livingroom> (1)', '<char0> [WALK] <addressbook> (1)', '<char0> [FIND] <addressbook> (1)', '<char0> [GRAB] <addressbook> (1)', '<char0> [READ] <addressbook> (1)']\n",
      "file15_2.txt\n",
      "dataset/1\\file160_1.txt\n",
      "['<char0> [WALK] <livingroom> (1)', '<char0> [WALK] <remotecontrol> (1)', '<char0> [FIND] <remotecontrol> (1)', '<char0> [FIND] <remotecontrol> (1)', '<char0> [FIND] <lightswitch> (1)', '<char0> [SWITCHON] <lightswitch> (1)', '<char0> [FIND] <lightswitch> (1)', '<char0> [SWITCHON] <lightswitch> (1)']\n",
      "file160_1.txt\n",
      "dataset/1\\file161_1.txt\n",
      "['<char0> [WALK] <livingroom> (1)', '<char0> [WALK] <radio> (1)', '<char0> [FIND] <radio> (1)', '<char0> [SWITCHON] <radio> (1)']\n",
      "file161_1.txt\n",
      "dataset/1\\file162_1.txt\n",
      "['<char0> [WALK] <livingroom> (1)', '<char0> [WALK] <tv> (1)', '<char0> [FIND] <tv> (1)', '<char0> [SWITCHON] <tv> (1)', '<char0> [FIND] <remotecontrol> (1)', '<char0> [GRAB] <remotecontrol> (1)', '<char0> [TURNTO] <tv> (1)', '<char0> [WATCH] <tv> (1)']\n",
      "file162_1.txt\n",
      "dataset/1\\file162_2.txt\n",
      "['<char0> [WALK] <bathroom> (1)', '<char0> [WALK] <clothespile> (1)', '<char0> [FIND] <clothespile> (1)', '<char0> [GRAB] <clothespile> (1)', '<char0> [FIND] <washingmachine> (1)', '<char0> [OPEN] <washingmachine> (1)', '<char0> [PUTBACK] <clothespile> (1) <washingmachine> (1)', '<char0> [FIND] <washingmachine> (1)', '<char0> [CLOSE] <washingmachine> (1)', '<char0> [SWITCHON] <washingmachine> (1)']\n",
      "file162_2.txt\n",
      "dataset/1\\file163_1.txt\n",
      "['<char0> [WALK] <livingroom> (1)', '<char0> [WALK] <book> (1)', '<char0> [FIND] <book> (1)', '<char0> [GRAB] <book> (1)', '<char0> [FIND] <chair> (1)', '<char0> [SIT] <chair> (1)', '<char0> [READ] <book> (1)']\n",
      "file163_1.txt\n",
      "dataset/1\\file169_2.txt\n",
      "['<char0> [FIND] <chair> (1)', '<char0> [SIT] <chair> (1)', '<char0> [FIND] <keyboard> (1)', '<char0> [GRAB] <keyboard> (1)', '<char0> [FIND] <computer> (1)', '<char0> [SWITCHON] <computer> (1)']\n",
      "file169_2.txt\n",
      "dataset/1\\file16_2.txt\n",
      "['<char0> [WALK] <livingroom> (1)', '<char0> [WALK] <book> (1)', '<char0> [FIND] <book> (1)', '<char0> [WALK] <coffeetable> (1)', '<char0> [GRAB] <book> (1)', '<char0> [WALK] <chair> (1)', '<char0> [SIT] <chair> (1)', '<char0> [READ] <book> (1)']\n",
      "file16_2.txt\n",
      "dataset/1\\file170_1.txt\n",
      "['<char0> [FIND] <remotecontrol> (1)', '<char0> [FIND] <tv> (1)', '<char0> [SWITCHON] <tv> (1)', '<char0> [FIND] <sofa> (1)', '<char0> [SIT] <sofa> (1)', '<char0> [FIND] <tv> (1)', '<char0> [TURNTO] <tv> (1)', '<char0> [LOOKAT] <tv> (1)']\n",
      "file170_1.txt\n",
      "dataset/1\\file171_2.txt\n",
      "['<char0> [WALK] <kitchen> (1)', '<char0> [WALK] <kitchencabinet> (1)', '<char0> [FIND] <kitchencabinet> (1)', '<char0> [OPEN] <kitchencabinet> (1)', '<char0> [FIND] <wineglass> (1)', '<char0> [GRAB] <wineglass> (1)', '<char0> [WALK] <sink> (1)', '<char0> [FIND] <faucet> (1)', '<char0> [TURNTO] <faucet> (1)', '<char0> [PUTBACK] <wineglass> (1) <sink> (1)', '<char0> [SWITCHON] <faucet> (1)', '<char0> [FIND] <water> (1)', '<char0> [GRAB] <wineglass> (1)', '<char0> [PUTBACK] <wineglass> (1) <sink> (1)', '<char0> [GRAB] <wineglass> (1)', '<char0> [SWITCHOFF] <faucet> (1)', '<char0> [DRINK] <wineglass> (1)']\n",
      "file171_2.txt\n"
     ]
    },
    {
     "ename": "UnityCommunicationException",
     "evalue": "HTTPConnectionPool(host='127.0.0.1', port=8080): Read timed out. (read timeout=30)",
     "output_type": "error",
     "traceback": [
      "\u001b[1;31m---------------------------------------------------------------------------\u001b[0m",
      "\u001b[1;31mtimeout\u001b[0m                                   Traceback (most recent call last)",
      "File \u001b[1;32m~\\Anaconda3\\envs\\House_guide\\lib\\site-packages\\urllib3\\connectionpool.py:426\u001b[0m, in \u001b[0;36mHTTPConnectionPool._make_request\u001b[1;34m(self, conn, method, url, timeout, chunked, **httplib_request_kw)\u001b[0m\n\u001b[0;32m    422\u001b[0m         \u001b[38;5;28;01mexcept\u001b[39;00m \u001b[38;5;167;01mBaseException\u001b[39;00m \u001b[38;5;28;01mas\u001b[39;00m e:\n\u001b[0;32m    423\u001b[0m             \u001b[38;5;66;03m# Remove the TypeError from the exception chain in\u001b[39;00m\n\u001b[0;32m    424\u001b[0m             \u001b[38;5;66;03m# Python 3 (including for exceptions like SystemExit).\u001b[39;00m\n\u001b[0;32m    425\u001b[0m             \u001b[38;5;66;03m# Otherwise it looks like a bug in the code.\u001b[39;00m\n\u001b[1;32m--> 426\u001b[0m             \u001b[43msix\u001b[49m\u001b[38;5;241;43m.\u001b[39;49m\u001b[43mraise_from\u001b[49m\u001b[43m(\u001b[49m\u001b[43me\u001b[49m\u001b[43m,\u001b[49m\u001b[43m \u001b[49m\u001b[38;5;28;43;01mNone\u001b[39;49;00m\u001b[43m)\u001b[49m\n\u001b[0;32m    427\u001b[0m \u001b[38;5;28;01mexcept\u001b[39;00m (SocketTimeout, BaseSSLError, SocketError) \u001b[38;5;28;01mas\u001b[39;00m e:\n",
      "File \u001b[1;32m<string>:3\u001b[0m, in \u001b[0;36mraise_from\u001b[1;34m(value, from_value)\u001b[0m\n",
      "File \u001b[1;32m~\\Anaconda3\\envs\\House_guide\\lib\\site-packages\\urllib3\\connectionpool.py:421\u001b[0m, in \u001b[0;36mHTTPConnectionPool._make_request\u001b[1;34m(self, conn, method, url, timeout, chunked, **httplib_request_kw)\u001b[0m\n\u001b[0;32m    420\u001b[0m \u001b[38;5;28;01mtry\u001b[39;00m:\n\u001b[1;32m--> 421\u001b[0m     httplib_response \u001b[38;5;241m=\u001b[39m \u001b[43mconn\u001b[49m\u001b[38;5;241;43m.\u001b[39;49m\u001b[43mgetresponse\u001b[49m\u001b[43m(\u001b[49m\u001b[43m)\u001b[49m\n\u001b[0;32m    422\u001b[0m \u001b[38;5;28;01mexcept\u001b[39;00m \u001b[38;5;167;01mBaseException\u001b[39;00m \u001b[38;5;28;01mas\u001b[39;00m e:\n\u001b[0;32m    423\u001b[0m     \u001b[38;5;66;03m# Remove the TypeError from the exception chain in\u001b[39;00m\n\u001b[0;32m    424\u001b[0m     \u001b[38;5;66;03m# Python 3 (including for exceptions like SystemExit).\u001b[39;00m\n\u001b[0;32m    425\u001b[0m     \u001b[38;5;66;03m# Otherwise it looks like a bug in the code.\u001b[39;00m\n",
      "File \u001b[1;32m~\\Anaconda3\\envs\\House_guide\\lib\\http\\client.py:1347\u001b[0m, in \u001b[0;36mHTTPConnection.getresponse\u001b[1;34m(self)\u001b[0m\n\u001b[0;32m   1346\u001b[0m \u001b[38;5;28;01mtry\u001b[39;00m:\n\u001b[1;32m-> 1347\u001b[0m     \u001b[43mresponse\u001b[49m\u001b[38;5;241;43m.\u001b[39;49m\u001b[43mbegin\u001b[49m\u001b[43m(\u001b[49m\u001b[43m)\u001b[49m\n\u001b[0;32m   1348\u001b[0m \u001b[38;5;28;01mexcept\u001b[39;00m \u001b[38;5;167;01mConnectionError\u001b[39;00m:\n",
      "File \u001b[1;32m~\\Anaconda3\\envs\\House_guide\\lib\\http\\client.py:307\u001b[0m, in \u001b[0;36mHTTPResponse.begin\u001b[1;34m(self)\u001b[0m\n\u001b[0;32m    306\u001b[0m \u001b[38;5;28;01mwhile\u001b[39;00m \u001b[38;5;28;01mTrue\u001b[39;00m:\n\u001b[1;32m--> 307\u001b[0m     version, status, reason \u001b[38;5;241m=\u001b[39m \u001b[38;5;28;43mself\u001b[39;49m\u001b[38;5;241;43m.\u001b[39;49m\u001b[43m_read_status\u001b[49m\u001b[43m(\u001b[49m\u001b[43m)\u001b[49m\n\u001b[0;32m    308\u001b[0m     \u001b[38;5;28;01mif\u001b[39;00m status \u001b[38;5;241m!=\u001b[39m CONTINUE:\n",
      "File \u001b[1;32m~\\Anaconda3\\envs\\House_guide\\lib\\http\\client.py:268\u001b[0m, in \u001b[0;36mHTTPResponse._read_status\u001b[1;34m(self)\u001b[0m\n\u001b[0;32m    267\u001b[0m \u001b[38;5;28;01mdef\u001b[39;00m \u001b[38;5;21m_read_status\u001b[39m(\u001b[38;5;28mself\u001b[39m):\n\u001b[1;32m--> 268\u001b[0m     line \u001b[38;5;241m=\u001b[39m \u001b[38;5;28mstr\u001b[39m(\u001b[38;5;28;43mself\u001b[39;49m\u001b[38;5;241;43m.\u001b[39;49m\u001b[43mfp\u001b[49m\u001b[38;5;241;43m.\u001b[39;49m\u001b[43mreadline\u001b[49m\u001b[43m(\u001b[49m\u001b[43m_MAXLINE\u001b[49m\u001b[43m \u001b[49m\u001b[38;5;241;43m+\u001b[39;49m\u001b[43m \u001b[49m\u001b[38;5;241;43m1\u001b[39;49m\u001b[43m)\u001b[49m, \u001b[38;5;124m\"\u001b[39m\u001b[38;5;124miso-8859-1\u001b[39m\u001b[38;5;124m\"\u001b[39m)\n\u001b[0;32m    269\u001b[0m     \u001b[38;5;28;01mif\u001b[39;00m \u001b[38;5;28mlen\u001b[39m(line) \u001b[38;5;241m>\u001b[39m _MAXLINE:\n",
      "File \u001b[1;32m~\\Anaconda3\\envs\\House_guide\\lib\\socket.py:669\u001b[0m, in \u001b[0;36mSocketIO.readinto\u001b[1;34m(self, b)\u001b[0m\n\u001b[0;32m    668\u001b[0m \u001b[38;5;28;01mtry\u001b[39;00m:\n\u001b[1;32m--> 669\u001b[0m     \u001b[38;5;28;01mreturn\u001b[39;00m \u001b[38;5;28;43mself\u001b[39;49m\u001b[38;5;241;43m.\u001b[39;49m\u001b[43m_sock\u001b[49m\u001b[38;5;241;43m.\u001b[39;49m\u001b[43mrecv_into\u001b[49m\u001b[43m(\u001b[49m\u001b[43mb\u001b[49m\u001b[43m)\u001b[49m\n\u001b[0;32m    670\u001b[0m \u001b[38;5;28;01mexcept\u001b[39;00m timeout:\n",
      "\u001b[1;31mtimeout\u001b[0m: timed out",
      "\nDuring handling of the above exception, another exception occurred:\n",
      "\u001b[1;31mReadTimeoutError\u001b[0m                          Traceback (most recent call last)",
      "File \u001b[1;32m~\\Anaconda3\\envs\\House_guide\\lib\\site-packages\\requests\\adapters.py:439\u001b[0m, in \u001b[0;36mHTTPAdapter.send\u001b[1;34m(self, request, stream, timeout, verify, cert, proxies)\u001b[0m\n\u001b[0;32m    438\u001b[0m \u001b[38;5;28;01mif\u001b[39;00m \u001b[38;5;129;01mnot\u001b[39;00m chunked:\n\u001b[1;32m--> 439\u001b[0m     resp \u001b[38;5;241m=\u001b[39m \u001b[43mconn\u001b[49m\u001b[38;5;241;43m.\u001b[39;49m\u001b[43murlopen\u001b[49m\u001b[43m(\u001b[49m\n\u001b[0;32m    440\u001b[0m \u001b[43m        \u001b[49m\u001b[43mmethod\u001b[49m\u001b[38;5;241;43m=\u001b[39;49m\u001b[43mrequest\u001b[49m\u001b[38;5;241;43m.\u001b[39;49m\u001b[43mmethod\u001b[49m\u001b[43m,\u001b[49m\n\u001b[0;32m    441\u001b[0m \u001b[43m        \u001b[49m\u001b[43murl\u001b[49m\u001b[38;5;241;43m=\u001b[39;49m\u001b[43murl\u001b[49m\u001b[43m,\u001b[49m\n\u001b[0;32m    442\u001b[0m \u001b[43m        \u001b[49m\u001b[43mbody\u001b[49m\u001b[38;5;241;43m=\u001b[39;49m\u001b[43mrequest\u001b[49m\u001b[38;5;241;43m.\u001b[39;49m\u001b[43mbody\u001b[49m\u001b[43m,\u001b[49m\n\u001b[0;32m    443\u001b[0m \u001b[43m        \u001b[49m\u001b[43mheaders\u001b[49m\u001b[38;5;241;43m=\u001b[39;49m\u001b[43mrequest\u001b[49m\u001b[38;5;241;43m.\u001b[39;49m\u001b[43mheaders\u001b[49m\u001b[43m,\u001b[49m\n\u001b[0;32m    444\u001b[0m \u001b[43m        \u001b[49m\u001b[43mredirect\u001b[49m\u001b[38;5;241;43m=\u001b[39;49m\u001b[38;5;28;43;01mFalse\u001b[39;49;00m\u001b[43m,\u001b[49m\n\u001b[0;32m    445\u001b[0m \u001b[43m        \u001b[49m\u001b[43massert_same_host\u001b[49m\u001b[38;5;241;43m=\u001b[39;49m\u001b[38;5;28;43;01mFalse\u001b[39;49;00m\u001b[43m,\u001b[49m\n\u001b[0;32m    446\u001b[0m \u001b[43m        \u001b[49m\u001b[43mpreload_content\u001b[49m\u001b[38;5;241;43m=\u001b[39;49m\u001b[38;5;28;43;01mFalse\u001b[39;49;00m\u001b[43m,\u001b[49m\n\u001b[0;32m    447\u001b[0m \u001b[43m        \u001b[49m\u001b[43mdecode_content\u001b[49m\u001b[38;5;241;43m=\u001b[39;49m\u001b[38;5;28;43;01mFalse\u001b[39;49;00m\u001b[43m,\u001b[49m\n\u001b[0;32m    448\u001b[0m \u001b[43m        \u001b[49m\u001b[43mretries\u001b[49m\u001b[38;5;241;43m=\u001b[39;49m\u001b[38;5;28;43mself\u001b[39;49m\u001b[38;5;241;43m.\u001b[39;49m\u001b[43mmax_retries\u001b[49m\u001b[43m,\u001b[49m\n\u001b[0;32m    449\u001b[0m \u001b[43m        \u001b[49m\u001b[43mtimeout\u001b[49m\u001b[38;5;241;43m=\u001b[39;49m\u001b[43mtimeout\u001b[49m\n\u001b[0;32m    450\u001b[0m \u001b[43m    \u001b[49m\u001b[43m)\u001b[49m\n\u001b[0;32m    452\u001b[0m \u001b[38;5;66;03m# Send the request.\u001b[39;00m\n\u001b[0;32m    453\u001b[0m \u001b[38;5;28;01melse\u001b[39;00m:\n",
      "File \u001b[1;32m~\\Anaconda3\\envs\\House_guide\\lib\\site-packages\\urllib3\\connectionpool.py:726\u001b[0m, in \u001b[0;36mHTTPConnectionPool.urlopen\u001b[1;34m(self, method, url, body, headers, retries, redirect, assert_same_host, timeout, pool_timeout, release_conn, chunked, body_pos, **response_kw)\u001b[0m\n\u001b[0;32m    724\u001b[0m     e \u001b[38;5;241m=\u001b[39m ProtocolError(\u001b[38;5;124m\"\u001b[39m\u001b[38;5;124mConnection aborted.\u001b[39m\u001b[38;5;124m\"\u001b[39m, e)\n\u001b[1;32m--> 726\u001b[0m retries \u001b[38;5;241m=\u001b[39m \u001b[43mretries\u001b[49m\u001b[38;5;241;43m.\u001b[39;49m\u001b[43mincrement\u001b[49m\u001b[43m(\u001b[49m\n\u001b[0;32m    727\u001b[0m \u001b[43m    \u001b[49m\u001b[43mmethod\u001b[49m\u001b[43m,\u001b[49m\u001b[43m \u001b[49m\u001b[43murl\u001b[49m\u001b[43m,\u001b[49m\u001b[43m \u001b[49m\u001b[43merror\u001b[49m\u001b[38;5;241;43m=\u001b[39;49m\u001b[43me\u001b[49m\u001b[43m,\u001b[49m\u001b[43m \u001b[49m\u001b[43m_pool\u001b[49m\u001b[38;5;241;43m=\u001b[39;49m\u001b[38;5;28;43mself\u001b[39;49m\u001b[43m,\u001b[49m\u001b[43m \u001b[49m\u001b[43m_stacktrace\u001b[49m\u001b[38;5;241;43m=\u001b[39;49m\u001b[43msys\u001b[49m\u001b[38;5;241;43m.\u001b[39;49m\u001b[43mexc_info\u001b[49m\u001b[43m(\u001b[49m\u001b[43m)\u001b[49m\u001b[43m[\u001b[49m\u001b[38;5;241;43m2\u001b[39;49m\u001b[43m]\u001b[49m\n\u001b[0;32m    728\u001b[0m \u001b[43m\u001b[49m\u001b[43m)\u001b[49m\n\u001b[0;32m    729\u001b[0m retries\u001b[38;5;241m.\u001b[39msleep()\n",
      "File \u001b[1;32m~\\Anaconda3\\envs\\House_guide\\lib\\site-packages\\urllib3\\util\\retry.py:410\u001b[0m, in \u001b[0;36mRetry.increment\u001b[1;34m(self, method, url, response, error, _pool, _stacktrace)\u001b[0m\n\u001b[0;32m    409\u001b[0m \u001b[38;5;28;01mif\u001b[39;00m read \u001b[38;5;129;01mis\u001b[39;00m \u001b[38;5;28;01mFalse\u001b[39;00m \u001b[38;5;129;01mor\u001b[39;00m \u001b[38;5;129;01mnot\u001b[39;00m \u001b[38;5;28mself\u001b[39m\u001b[38;5;241m.\u001b[39m_is_method_retryable(method):\n\u001b[1;32m--> 410\u001b[0m     \u001b[38;5;28;01mraise\u001b[39;00m \u001b[43msix\u001b[49m\u001b[38;5;241;43m.\u001b[39;49m\u001b[43mreraise\u001b[49m\u001b[43m(\u001b[49m\u001b[38;5;28;43mtype\u001b[39;49m\u001b[43m(\u001b[49m\u001b[43merror\u001b[49m\u001b[43m)\u001b[49m\u001b[43m,\u001b[49m\u001b[43m \u001b[49m\u001b[43merror\u001b[49m\u001b[43m,\u001b[49m\u001b[43m \u001b[49m\u001b[43m_stacktrace\u001b[49m\u001b[43m)\u001b[49m\n\u001b[0;32m    411\u001b[0m \u001b[38;5;28;01melif\u001b[39;00m read \u001b[38;5;129;01mis\u001b[39;00m \u001b[38;5;129;01mnot\u001b[39;00m \u001b[38;5;28;01mNone\u001b[39;00m:\n",
      "File \u001b[1;32m~\\Anaconda3\\envs\\House_guide\\lib\\site-packages\\urllib3\\packages\\six.py:735\u001b[0m, in \u001b[0;36mreraise\u001b[1;34m(tp, value, tb)\u001b[0m\n\u001b[0;32m    734\u001b[0m         \u001b[38;5;28;01mraise\u001b[39;00m value\u001b[38;5;241m.\u001b[39mwith_traceback(tb)\n\u001b[1;32m--> 735\u001b[0m     \u001b[38;5;28;01mraise\u001b[39;00m value\n\u001b[0;32m    736\u001b[0m \u001b[38;5;28;01mfinally\u001b[39;00m:\n",
      "File \u001b[1;32m~\\Anaconda3\\envs\\House_guide\\lib\\site-packages\\urllib3\\connectionpool.py:670\u001b[0m, in \u001b[0;36mHTTPConnectionPool.urlopen\u001b[1;34m(self, method, url, body, headers, retries, redirect, assert_same_host, timeout, pool_timeout, release_conn, chunked, body_pos, **response_kw)\u001b[0m\n\u001b[0;32m    669\u001b[0m \u001b[38;5;66;03m# Make the request on the httplib connection object.\u001b[39;00m\n\u001b[1;32m--> 670\u001b[0m httplib_response \u001b[38;5;241m=\u001b[39m \u001b[38;5;28;43mself\u001b[39;49m\u001b[38;5;241;43m.\u001b[39;49m\u001b[43m_make_request\u001b[49m\u001b[43m(\u001b[49m\n\u001b[0;32m    671\u001b[0m \u001b[43m    \u001b[49m\u001b[43mconn\u001b[49m\u001b[43m,\u001b[49m\n\u001b[0;32m    672\u001b[0m \u001b[43m    \u001b[49m\u001b[43mmethod\u001b[49m\u001b[43m,\u001b[49m\n\u001b[0;32m    673\u001b[0m \u001b[43m    \u001b[49m\u001b[43murl\u001b[49m\u001b[43m,\u001b[49m\n\u001b[0;32m    674\u001b[0m \u001b[43m    \u001b[49m\u001b[43mtimeout\u001b[49m\u001b[38;5;241;43m=\u001b[39;49m\u001b[43mtimeout_obj\u001b[49m\u001b[43m,\u001b[49m\n\u001b[0;32m    675\u001b[0m \u001b[43m    \u001b[49m\u001b[43mbody\u001b[49m\u001b[38;5;241;43m=\u001b[39;49m\u001b[43mbody\u001b[49m\u001b[43m,\u001b[49m\n\u001b[0;32m    676\u001b[0m \u001b[43m    \u001b[49m\u001b[43mheaders\u001b[49m\u001b[38;5;241;43m=\u001b[39;49m\u001b[43mheaders\u001b[49m\u001b[43m,\u001b[49m\n\u001b[0;32m    677\u001b[0m \u001b[43m    \u001b[49m\u001b[43mchunked\u001b[49m\u001b[38;5;241;43m=\u001b[39;49m\u001b[43mchunked\u001b[49m\u001b[43m,\u001b[49m\n\u001b[0;32m    678\u001b[0m \u001b[43m\u001b[49m\u001b[43m)\u001b[49m\n\u001b[0;32m    680\u001b[0m \u001b[38;5;66;03m# If we're going to release the connection in ``finally:``, then\u001b[39;00m\n\u001b[0;32m    681\u001b[0m \u001b[38;5;66;03m# the response doesn't need to know about the connection. Otherwise\u001b[39;00m\n\u001b[0;32m    682\u001b[0m \u001b[38;5;66;03m# it will also try to release it and we'll have a double-release\u001b[39;00m\n\u001b[0;32m    683\u001b[0m \u001b[38;5;66;03m# mess.\u001b[39;00m\n",
      "File \u001b[1;32m~\\Anaconda3\\envs\\House_guide\\lib\\site-packages\\urllib3\\connectionpool.py:428\u001b[0m, in \u001b[0;36mHTTPConnectionPool._make_request\u001b[1;34m(self, conn, method, url, timeout, chunked, **httplib_request_kw)\u001b[0m\n\u001b[0;32m    427\u001b[0m \u001b[38;5;28;01mexcept\u001b[39;00m (SocketTimeout, BaseSSLError, SocketError) \u001b[38;5;28;01mas\u001b[39;00m e:\n\u001b[1;32m--> 428\u001b[0m     \u001b[38;5;28;43mself\u001b[39;49m\u001b[38;5;241;43m.\u001b[39;49m\u001b[43m_raise_timeout\u001b[49m\u001b[43m(\u001b[49m\u001b[43merr\u001b[49m\u001b[38;5;241;43m=\u001b[39;49m\u001b[43me\u001b[49m\u001b[43m,\u001b[49m\u001b[43m \u001b[49m\u001b[43murl\u001b[49m\u001b[38;5;241;43m=\u001b[39;49m\u001b[43murl\u001b[49m\u001b[43m,\u001b[49m\u001b[43m \u001b[49m\u001b[43mtimeout_value\u001b[49m\u001b[38;5;241;43m=\u001b[39;49m\u001b[43mread_timeout\u001b[49m\u001b[43m)\u001b[49m\n\u001b[0;32m    429\u001b[0m     \u001b[38;5;28;01mraise\u001b[39;00m\n",
      "File \u001b[1;32m~\\Anaconda3\\envs\\House_guide\\lib\\site-packages\\urllib3\\connectionpool.py:335\u001b[0m, in \u001b[0;36mHTTPConnectionPool._raise_timeout\u001b[1;34m(self, err, url, timeout_value)\u001b[0m\n\u001b[0;32m    334\u001b[0m \u001b[38;5;28;01mif\u001b[39;00m \u001b[38;5;28misinstance\u001b[39m(err, SocketTimeout):\n\u001b[1;32m--> 335\u001b[0m     \u001b[38;5;28;01mraise\u001b[39;00m ReadTimeoutError(\n\u001b[0;32m    336\u001b[0m         \u001b[38;5;28mself\u001b[39m, url, \u001b[38;5;124m\"\u001b[39m\u001b[38;5;124mRead timed out. (read timeout=\u001b[39m\u001b[38;5;132;01m%s\u001b[39;00m\u001b[38;5;124m)\u001b[39m\u001b[38;5;124m\"\u001b[39m \u001b[38;5;241m%\u001b[39m timeout_value\n\u001b[0;32m    337\u001b[0m     )\n\u001b[0;32m    339\u001b[0m \u001b[38;5;66;03m# See the above comment about EAGAIN in Python 3. In Python 2 we have\u001b[39;00m\n\u001b[0;32m    340\u001b[0m \u001b[38;5;66;03m# to specifically catch it and throw the timeout error\u001b[39;00m\n",
      "\u001b[1;31mReadTimeoutError\u001b[0m: HTTPConnectionPool(host='127.0.0.1', port=8080): Read timed out. (read timeout=30)",
      "\nDuring handling of the above exception, another exception occurred:\n",
      "\u001b[1;31mReadTimeout\u001b[0m                               Traceback (most recent call last)",
      "File \u001b[1;32m~\\workspace\\virtualhome2kg\\simulation\\unity_simulator\\comm_unity.py:92\u001b[0m, in \u001b[0;36mUnityCommunication.post_command\u001b[1;34m(self, request_dict, repeat)\u001b[0m\n\u001b[0;32m     91\u001b[0m \u001b[38;5;28;01melse\u001b[39;00m:\n\u001b[1;32m---> 92\u001b[0m     resp \u001b[38;5;241m=\u001b[39m \u001b[43mrequests\u001b[49m\u001b[38;5;241;43m.\u001b[39;49m\u001b[43mpost\u001b[49m\u001b[43m(\u001b[49m\u001b[38;5;28;43mself\u001b[39;49m\u001b[38;5;241;43m.\u001b[39;49m\u001b[43m_address\u001b[49m\u001b[43m,\u001b[49m\u001b[43m \u001b[49m\u001b[43mjson\u001b[49m\u001b[38;5;241;43m=\u001b[39;49m\u001b[43mrequest_dict\u001b[49m\u001b[43m,\u001b[49m\u001b[43m \u001b[49m\u001b[43mtimeout\u001b[49m\u001b[38;5;241;43m=\u001b[39;49m\u001b[38;5;28;43mself\u001b[39;49m\u001b[38;5;241;43m.\u001b[39;49m\u001b[43mtimeout_wait\u001b[49m\u001b[43m)\u001b[49m\n\u001b[0;32m     93\u001b[0m \u001b[38;5;28;01mif\u001b[39;00m resp\u001b[38;5;241m.\u001b[39mstatus_code \u001b[38;5;241m!=\u001b[39m requests\u001b[38;5;241m.\u001b[39mcodes\u001b[38;5;241m.\u001b[39mok:\n",
      "File \u001b[1;32m~\\Anaconda3\\envs\\House_guide\\lib\\site-packages\\requests\\api.py:119\u001b[0m, in \u001b[0;36mpost\u001b[1;34m(url, data, json, **kwargs)\u001b[0m\n\u001b[0;32m    108\u001b[0m \u001b[38;5;124mr\u001b[39m\u001b[38;5;124;03m\"\"\"Sends a POST request.\u001b[39;00m\n\u001b[0;32m    109\u001b[0m \n\u001b[0;32m    110\u001b[0m \u001b[38;5;124;03m:param url: URL for the new :class:`Request` object.\u001b[39;00m\n\u001b[1;32m   (...)\u001b[0m\n\u001b[0;32m    116\u001b[0m \u001b[38;5;124;03m:rtype: requests.Response\u001b[39;00m\n\u001b[0;32m    117\u001b[0m \u001b[38;5;124;03m\"\"\"\u001b[39;00m\n\u001b[1;32m--> 119\u001b[0m \u001b[38;5;28;01mreturn\u001b[39;00m \u001b[43mrequest\u001b[49m\u001b[43m(\u001b[49m\u001b[38;5;124;43m'\u001b[39;49m\u001b[38;5;124;43mpost\u001b[39;49m\u001b[38;5;124;43m'\u001b[39;49m\u001b[43m,\u001b[49m\u001b[43m \u001b[49m\u001b[43murl\u001b[49m\u001b[43m,\u001b[49m\u001b[43m \u001b[49m\u001b[43mdata\u001b[49m\u001b[38;5;241;43m=\u001b[39;49m\u001b[43mdata\u001b[49m\u001b[43m,\u001b[49m\u001b[43m \u001b[49m\u001b[43mjson\u001b[49m\u001b[38;5;241;43m=\u001b[39;49m\u001b[43mjson\u001b[49m\u001b[43m,\u001b[49m\u001b[43m \u001b[49m\u001b[38;5;241;43m*\u001b[39;49m\u001b[38;5;241;43m*\u001b[39;49m\u001b[43mkwargs\u001b[49m\u001b[43m)\u001b[49m\n",
      "File \u001b[1;32m~\\Anaconda3\\envs\\House_guide\\lib\\site-packages\\requests\\api.py:61\u001b[0m, in \u001b[0;36mrequest\u001b[1;34m(method, url, **kwargs)\u001b[0m\n\u001b[0;32m     60\u001b[0m \u001b[38;5;28;01mwith\u001b[39;00m sessions\u001b[38;5;241m.\u001b[39mSession() \u001b[38;5;28;01mas\u001b[39;00m session:\n\u001b[1;32m---> 61\u001b[0m     \u001b[38;5;28;01mreturn\u001b[39;00m \u001b[43msession\u001b[49m\u001b[38;5;241;43m.\u001b[39;49m\u001b[43mrequest\u001b[49m\u001b[43m(\u001b[49m\u001b[43mmethod\u001b[49m\u001b[38;5;241;43m=\u001b[39;49m\u001b[43mmethod\u001b[49m\u001b[43m,\u001b[49m\u001b[43m \u001b[49m\u001b[43murl\u001b[49m\u001b[38;5;241;43m=\u001b[39;49m\u001b[43murl\u001b[49m\u001b[43m,\u001b[49m\u001b[43m \u001b[49m\u001b[38;5;241;43m*\u001b[39;49m\u001b[38;5;241;43m*\u001b[39;49m\u001b[43mkwargs\u001b[49m\u001b[43m)\u001b[49m\n",
      "File \u001b[1;32m~\\Anaconda3\\envs\\House_guide\\lib\\site-packages\\requests\\sessions.py:542\u001b[0m, in \u001b[0;36mSession.request\u001b[1;34m(self, method, url, params, data, headers, cookies, files, auth, timeout, allow_redirects, proxies, hooks, stream, verify, cert, json)\u001b[0m\n\u001b[0;32m    541\u001b[0m send_kwargs\u001b[38;5;241m.\u001b[39mupdate(settings)\n\u001b[1;32m--> 542\u001b[0m resp \u001b[38;5;241m=\u001b[39m \u001b[38;5;28;43mself\u001b[39;49m\u001b[38;5;241;43m.\u001b[39;49m\u001b[43msend\u001b[49m\u001b[43m(\u001b[49m\u001b[43mprep\u001b[49m\u001b[43m,\u001b[49m\u001b[43m \u001b[49m\u001b[38;5;241;43m*\u001b[39;49m\u001b[38;5;241;43m*\u001b[39;49m\u001b[43msend_kwargs\u001b[49m\u001b[43m)\u001b[49m\n\u001b[0;32m    544\u001b[0m \u001b[38;5;28;01mreturn\u001b[39;00m resp\n",
      "File \u001b[1;32m~\\Anaconda3\\envs\\House_guide\\lib\\site-packages\\requests\\sessions.py:655\u001b[0m, in \u001b[0;36mSession.send\u001b[1;34m(self, request, **kwargs)\u001b[0m\n\u001b[0;32m    654\u001b[0m \u001b[38;5;66;03m# Send the request\u001b[39;00m\n\u001b[1;32m--> 655\u001b[0m r \u001b[38;5;241m=\u001b[39m \u001b[43madapter\u001b[49m\u001b[38;5;241;43m.\u001b[39;49m\u001b[43msend\u001b[49m\u001b[43m(\u001b[49m\u001b[43mrequest\u001b[49m\u001b[43m,\u001b[49m\u001b[43m \u001b[49m\u001b[38;5;241;43m*\u001b[39;49m\u001b[38;5;241;43m*\u001b[39;49m\u001b[43mkwargs\u001b[49m\u001b[43m)\u001b[49m\n\u001b[0;32m    657\u001b[0m \u001b[38;5;66;03m# Total elapsed time of the request (approximately)\u001b[39;00m\n",
      "File \u001b[1;32m~\\Anaconda3\\envs\\House_guide\\lib\\site-packages\\requests\\adapters.py:529\u001b[0m, in \u001b[0;36mHTTPAdapter.send\u001b[1;34m(self, request, stream, timeout, verify, cert, proxies)\u001b[0m\n\u001b[0;32m    528\u001b[0m \u001b[38;5;28;01melif\u001b[39;00m \u001b[38;5;28misinstance\u001b[39m(e, ReadTimeoutError):\n\u001b[1;32m--> 529\u001b[0m     \u001b[38;5;28;01mraise\u001b[39;00m ReadTimeout(e, request\u001b[38;5;241m=\u001b[39mrequest)\n\u001b[0;32m    530\u001b[0m \u001b[38;5;28;01melse\u001b[39;00m:\n",
      "\u001b[1;31mReadTimeout\u001b[0m: HTTPConnectionPool(host='127.0.0.1', port=8080): Read timed out. (read timeout=30)",
      "\nDuring handling of the above exception, another exception occurred:\n",
      "\u001b[1;31mUnityCommunicationException\u001b[0m               Traceback (most recent call last)",
      "Input \u001b[1;32mIn [34]\u001b[0m, in \u001b[0;36m<cell line: 11>\u001b[1;34m()\u001b[0m\n\u001b[0;32m     36\u001b[0m comm\u001b[38;5;241m.\u001b[39madd_character(\u001b[38;5;124m'\u001b[39m\u001b[38;5;124mChars/male1\u001b[39m\u001b[38;5;124m'\u001b[39m, initial_room\u001b[38;5;241m=\u001b[39m\u001b[38;5;124m'\u001b[39m\u001b[38;5;124mbathroom\u001b[39m\u001b[38;5;124m'\u001b[39m)\n\u001b[0;32m     37\u001b[0m success, graph \u001b[38;5;241m=\u001b[39m comm\u001b[38;5;241m.\u001b[39menvironment_graph()\n\u001b[1;32m---> 38\u001b[0m a, b \u001b[38;5;241m=\u001b[39m \u001b[43mcomm\u001b[49m\u001b[38;5;241;43m.\u001b[39;49m\u001b[43mrender_script\u001b[49m\u001b[43m(\u001b[49m\u001b[43mscript\u001b[49m\u001b[38;5;241;43m=\u001b[39;49m\u001b[43mscripts\u001b[49m\u001b[43m,\u001b[49m\u001b[43m \u001b[49m\u001b[43mfind_solution\u001b[49m\u001b[38;5;241;43m=\u001b[39;49m\u001b[38;5;28;43;01mTrue\u001b[39;49;00m\u001b[43m,\u001b[49m\u001b[43m \u001b[49m\u001b[43mskip_execution\u001b[49m\u001b[38;5;241;43m=\u001b[39;49m\u001b[38;5;28;43;01mTrue\u001b[39;49;00m\u001b[43m,\u001b[49m\u001b[43m \u001b[49m\u001b[43mrecording\u001b[49m\u001b[38;5;241;43m=\u001b[39;49m\u001b[38;5;28;43;01mTrue\u001b[39;49;00m\u001b[43m,\u001b[49m\u001b[43m \u001b[49m\u001b[43mcamera_mode\u001b[49m\u001b[38;5;241;43m=\u001b[39;49m\u001b[43m[\u001b[49m\u001b[38;5;124;43m'\u001b[39;49m\u001b[38;5;124;43mAUTO\u001b[39;49m\u001b[38;5;124;43m'\u001b[39;49m\u001b[43m]\u001b[49m\u001b[43m)\u001b[49m\n\u001b[0;32m     40\u001b[0m \u001b[38;5;28;01mif\u001b[39;00m a \u001b[38;5;241m==\u001b[39m \u001b[38;5;28;01mTrue\u001b[39;00m:\n\u001b[0;32m     41\u001b[0m     executable\u001b[38;5;241m.\u001b[39mappend(file)\n",
      "File \u001b[1;32m~\\workspace\\virtualhome2kg\\simulation\\unity_simulator\\comm_unity.py:371\u001b[0m, in \u001b[0;36mUnityCommunication.render_script\u001b[1;34m(self, script, randomize_execution, random_seed, processing_time_limit, skip_execution, find_solution, output_folder, file_name_prefix, frame_rate, image_synthesis, save_pose_data, image_width, image_height, recording, save_scene_states, camera_mode, time_scale, skip_animation)\u001b[0m\n\u001b[0;32m    337\u001b[0m \u001b[38;5;124;03m\"\"\"\u001b[39;00m\n\u001b[0;32m    338\u001b[0m \u001b[38;5;124;03mExecutes a script in the simulator. The script can be single or multi agent, \u001b[39;00m\n\u001b[0;32m    339\u001b[0m \u001b[38;5;124;03mand can be used to generate a video, or just to change the state of the environment\u001b[39;00m\n\u001b[1;32m   (...)\u001b[0m\n\u001b[0;32m    360\u001b[0m \u001b[38;5;124;03m:return: pair success (bool), message: (str)\u001b[39;00m\n\u001b[0;32m    361\u001b[0m \u001b[38;5;124;03m\"\"\"\u001b[39;00m\n\u001b[0;32m    362\u001b[0m params \u001b[38;5;241m=\u001b[39m {\u001b[38;5;124m'\u001b[39m\u001b[38;5;124mrandomize_execution\u001b[39m\u001b[38;5;124m'\u001b[39m: randomize_execution, \u001b[38;5;124m'\u001b[39m\u001b[38;5;124mrandom_seed\u001b[39m\u001b[38;5;124m'\u001b[39m: random_seed,\n\u001b[0;32m    363\u001b[0m           \u001b[38;5;124m'\u001b[39m\u001b[38;5;124mprocessing_time_limit\u001b[39m\u001b[38;5;124m'\u001b[39m: processing_time_limit, \u001b[38;5;124m'\u001b[39m\u001b[38;5;124mskip_execution\u001b[39m\u001b[38;5;124m'\u001b[39m: skip_execution,\n\u001b[0;32m    364\u001b[0m           \u001b[38;5;124m'\u001b[39m\u001b[38;5;124moutput_folder\u001b[39m\u001b[38;5;124m'\u001b[39m: output_folder, \u001b[38;5;124m'\u001b[39m\u001b[38;5;124mfile_name_prefix\u001b[39m\u001b[38;5;124m'\u001b[39m: file_name_prefix,\n\u001b[1;32m   (...)\u001b[0m\n\u001b[0;32m    369\u001b[0m           \u001b[38;5;124m'\u001b[39m\u001b[38;5;124mimage_width\u001b[39m\u001b[38;5;124m'\u001b[39m: image_width, \u001b[38;5;124m'\u001b[39m\u001b[38;5;124mimage_height\u001b[39m\u001b[38;5;124m'\u001b[39m: image_height,\n\u001b[0;32m    370\u001b[0m           \u001b[38;5;124m'\u001b[39m\u001b[38;5;124mtime_scale\u001b[39m\u001b[38;5;124m'\u001b[39m: time_scale, \u001b[38;5;124m'\u001b[39m\u001b[38;5;124mskip_animation\u001b[39m\u001b[38;5;124m'\u001b[39m: skip_animation}\n\u001b[1;32m--> 371\u001b[0m response \u001b[38;5;241m=\u001b[39m \u001b[38;5;28;43mself\u001b[39;49m\u001b[38;5;241;43m.\u001b[39;49m\u001b[43mpost_command\u001b[49m\u001b[43m(\u001b[49m\u001b[43m{\u001b[49m\u001b[38;5;124;43m'\u001b[39;49m\u001b[38;5;124;43mid\u001b[39;49m\u001b[38;5;124;43m'\u001b[39;49m\u001b[43m:\u001b[49m\u001b[43m \u001b[49m\u001b[38;5;28;43mstr\u001b[39;49m\u001b[43m(\u001b[49m\u001b[43mtime\u001b[49m\u001b[38;5;241;43m.\u001b[39;49m\u001b[43mtime\u001b[49m\u001b[43m(\u001b[49m\u001b[43m)\u001b[49m\u001b[43m)\u001b[49m\u001b[43m,\u001b[49m\u001b[43m \u001b[49m\u001b[38;5;124;43m'\u001b[39;49m\u001b[38;5;124;43maction\u001b[39;49m\u001b[38;5;124;43m'\u001b[39;49m\u001b[43m:\u001b[49m\u001b[43m \u001b[49m\u001b[38;5;124;43m'\u001b[39;49m\u001b[38;5;124;43mrender_script\u001b[39;49m\u001b[38;5;124;43m'\u001b[39;49m\u001b[43m,\u001b[49m\n\u001b[0;32m    372\u001b[0m \u001b[43m                              \u001b[49m\u001b[38;5;124;43m'\u001b[39;49m\u001b[38;5;124;43mstringParams\u001b[39;49m\u001b[38;5;124;43m'\u001b[39;49m\u001b[43m:\u001b[49m\u001b[43m \u001b[49m\u001b[43m[\u001b[49m\u001b[43mjson\u001b[49m\u001b[38;5;241;43m.\u001b[39;49m\u001b[43mdumps\u001b[49m\u001b[43m(\u001b[49m\u001b[43mparams\u001b[49m\u001b[43m)\u001b[49m\u001b[43m]\u001b[49m\u001b[43m \u001b[49m\u001b[38;5;241;43m+\u001b[39;49m\u001b[43m \u001b[49m\u001b[43mscript\u001b[49m\u001b[43m}\u001b[49m\u001b[43m)\u001b[49m\n\u001b[0;32m    374\u001b[0m \u001b[38;5;28;01mtry\u001b[39;00m:\n\u001b[0;32m    375\u001b[0m     message \u001b[38;5;241m=\u001b[39m json\u001b[38;5;241m.\u001b[39mloads(response[\u001b[38;5;124m'\u001b[39m\u001b[38;5;124mmessage\u001b[39m\u001b[38;5;124m'\u001b[39m])\n",
      "File \u001b[1;32m~\\workspace\\virtualhome2kg\\simulation\\unity_simulator\\comm_unity.py:97\u001b[0m, in \u001b[0;36mUnityCommunication.post_command\u001b[1;34m(self, request_dict, repeat)\u001b[0m\n\u001b[0;32m     95\u001b[0m     \u001b[38;5;28;01mreturn\u001b[39;00m resp\u001b[38;5;241m.\u001b[39mjson()\n\u001b[0;32m     96\u001b[0m \u001b[38;5;28;01mexcept\u001b[39;00m requests\u001b[38;5;241m.\u001b[39mexceptions\u001b[38;5;241m.\u001b[39mRequestException \u001b[38;5;28;01mas\u001b[39;00m e:\n\u001b[1;32m---> 97\u001b[0m     \u001b[38;5;28;01mraise\u001b[39;00m UnityCommunicationException(\u001b[38;5;28mstr\u001b[39m(e))\n",
      "\u001b[1;31mUnityCommunicationException\u001b[0m: HTTPConnectionPool(host='127.0.0.1', port=8080): Read timed out. (read timeout=30)"
     ]
    }
   ],
   "source": [
    "from unity_simulator import utils_viz\n",
    "import glob\n",
    "\n",
    "import shutil\n",
    "import os\n",
    "\n",
    "files = glob.glob(f\"dataset/{scene_num}/*.txt\")\n",
    "executable = []\n",
    "notExecutable = []\n",
    "\n",
    "for file in files:\n",
    "    with open(file, 'r') as f:\n",
    "        print(file)\n",
    "        file_data = f.readlines()[4:]\n",
    "\n",
    "        scripts = []\n",
    "        for line in file_data:\n",
    "            row = line.split()\n",
    "            script = '<char0> '\n",
    "            if len(row)==1:\n",
    "                script += str(row[0])\n",
    "            elif len(row)==3:\n",
    "                script += f'{ str(row[0]) } <{ change_obj_name( str(row[1]).replace(\"<\",\"\").replace(\">\",\"\") ) }> (1)'\n",
    "            elif len(row)==5:\n",
    "                script += f'{ str(row[0]) } <{ change_obj_name( str(row[1]).replace(\"<\",\"\").replace(\">\",\"\") ) }> (1) <{ change_obj_name( str(row[3]).replace(\"<\",\"\").replace(\">\",\"\") ) }> (1)'\n",
    "            \n",
    "            scripts.append(script)\n",
    "                \n",
    "        #print(scripts)\n",
    "        file = str(file).replace(f\"dataset/{scene_num}\\\\\",\"\")\n",
    "        #print(file)\n",
    "        \n",
    "        \n",
    "       \n",
    "        comm.reset(scene_num-1)\n",
    "        comm.add_character('Chars/male1', initial_room='bathroom')\n",
    "        success, graph = comm.environment_graph()\n",
    "        a, b = comm.render_script(script=scripts, find_solution=True, skip_execution=True, recording=True, camera_mode=['AUTO'])\n",
    "        \n",
    "        if a == True:\n",
    "            executable.append(file)\n",
    "            \n",
    "        else:\n",
    "            notExecutable.append(file)\n",
    "            \n",
    "            \n",
    "for file in executable:\n",
    "    shutil.move(f'dataset/{scene_num}/{file}', f'dataset/{scene_num}/executable/{file}')\n",
    "    \n",
    "for file in notExecutable:\n",
    "    shutil.move(f'dataset/{scene_num}/{file}', f'dataset/{scene_num}/notExecutable/{file}')"
   ]
  },
  {
   "cell_type": "code",
   "execution_count": 128,
   "metadata": {},
   "outputs": [
    {
     "name": "stdout",
     "output_type": "stream",
     "text": [
      "170\n"
     ]
    }
   ],
   "source": [
    "files = glob.glob(\"executable/*.txt\")\n",
    "print(len(files))"
   ]
  },
  {
   "cell_type": "code",
   "execution_count": null,
   "metadata": {},
   "outputs": [],
   "source": []
  }
 ],
 "metadata": {
  "kernelspec": {
   "display_name": "Python 3",
   "language": "python",
   "name": "python3"
  },
  "language_info": {
   "codemirror_mode": {
    "name": "ipython",
    "version": 3
   },
   "file_extension": ".py",
   "mimetype": "text/x-python",
   "name": "python",
   "nbconvert_exporter": "python",
   "pygments_lexer": "ipython3",
   "version": "3.8.8"
  }
 },
 "nbformat": 4,
 "nbformat_minor": 2
}
